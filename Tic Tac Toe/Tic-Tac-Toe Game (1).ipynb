{
 "cells": [
  {
   "cell_type": "markdown",
   "id": "888c7598",
   "metadata": {},
   "source": [
    "# Tic Tac Toe\n"
   ]
  },
  {
   "cell_type": "markdown",
   "id": "a10819f0",
   "metadata": {
    "jp-MarkdownHeadingCollapsed": true
   },
   "source": [
    "## 2.1 Command Line Interface (CLI) Version"
   ]
  },
  {
   "cell_type": "code",
   "execution_count": null,
   "id": "25711bf7",
   "metadata": {},
   "outputs": [],
   "source": [
    "from IPython.display import clear_output\n",
    "import random"
   ]
  },
  {
   "cell_type": "code",
   "execution_count": null,
   "id": "257185a6",
   "metadata": {},
   "outputs": [],
   "source": [
    "def display_board(board):\n",
    "    \n",
    "    \"\"\"\n",
    "    Clears the current output and displays the Tic Tac Toe board.\n",
    "    Parameters:\n",
    "        board (list): A list representing the Tic Tac Toe board.\n",
    "    \"\"\"\n",
    "    \n",
    "    clear_output()     \n",
    "    print('   |   |')\n",
    "    print(' ' + board[7] + ' | ' + board[8] + ' | ' + board[9])\n",
    "    print('   |   |')\n",
    "    print('-----------')\n",
    "    print('   |   |')\n",
    "    print(' ' + board[4] + ' | ' + board[5] + ' | ' + board[6])\n",
    "    print('   |   |')\n",
    "    print('-----------')\n",
    "    print('   |   |')\n",
    "    print(' ' + board[1] + ' | ' + board[2] + ' | ' + board[3])\n",
    "    print('   |   |')\n"
   ]
  },
  {
   "cell_type": "code",
   "execution_count": null,
   "id": "50a14034",
   "metadata": {},
   "outputs": [],
   "source": [
    "def player_input():\n",
    "    \n",
    "    \"\"\"\n",
    "    Asks the first player to choose their marker, X or O.\n",
    "    Returns:\n",
    "        tuple: A tuple containing the markers for Player 1 and Player 2.\n",
    "    \"\"\"\n",
    "\n",
    "    marker = ''\n",
    "    while not (marker == 'X' or marker == 'O'):\n",
    "        marker = input('Player 1: Do you want to be X or O? ').upper()\n",
    "    if marker == 'X':\n",
    "        return ('X', 'O')\n",
    "    else:\n",
    "        return ('O', 'X')"
   ]
  },
  {
   "cell_type": "code",
   "execution_count": null,
   "id": "00c6ceeb",
   "metadata": {},
   "outputs": [],
   "source": [
    "def place_marker(board, marker, position):\n",
    "    \n",
    "    \"\"\"\n",
    "    Places a marker on the board at the specified position.\n",
    "    Parameters:\n",
    "        board (list): The current game board.\n",
    "        marker (str): The marker to place ('X' or 'O').\n",
    "        position (int): The position to place the marker (1-9).\n",
    "    \"\"\"\n",
    "    \n",
    "    board[position] = marker"
   ]
  },
  {
   "cell_type": "code",
   "execution_count": null,
   "id": "7c801d5a",
   "metadata": {},
   "outputs": [],
   "source": [
    "def win_check(board, mark):\n",
    "    \n",
    "    \"\"\"\n",
    "    Checks if a player has won the game.\n",
    "    Parameters:\n",
    "        board (list): The current game board.\n",
    "        mark (str): The marker to check for a win ('X' or 'O').\n",
    "    Returns:\n",
    "        bool: True if the player has won, False otherwise.\n",
    "    \"\"\"\n",
    "    \n",
    "    return ((board[7] == mark and board[8] == mark and board[9] == mark) or \n",
    "            (board[4] == mark and board[5] == mark and board[6] == mark) or \n",
    "            (board[1] == mark and board[2] == mark and board[3] == mark) or \n",
    "            (board[7] == mark and board[4] == mark and board[1] == mark) or \n",
    "            (board[8] == mark and board[5] == mark and board[2] == mark) or \n",
    "            (board[9] == mark and board[6] == mark and board[3] == mark) or \n",
    "            (board[7] == mark and board[5] == mark and board[3] == mark) or \n",
    "            (board[9] == mark and board[5] == mark and board[1] == mark))"
   ]
  },
  {
   "cell_type": "code",
   "execution_count": null,
   "id": "455d65dc",
   "metadata": {},
   "outputs": [],
   "source": [
    "def choose_first():    \n",
    "    \n",
    "    \"\"\"\n",
    "    Randomly chooses which player goes first.\n",
    "    Returns:\n",
    "        str: 'Player 1' or 'Player 2'.\n",
    "    \"\"\"\n",
    "    \n",
    "    return 'Player 1' if random.randint(0, 1) == 0 else 'Player 2'"
   ]
  },
  {
   "cell_type": "code",
   "execution_count": null,
   "id": "02df006b",
   "metadata": {},
   "outputs": [],
   "source": [
    "def space_check(board, position):\n",
    "    \n",
    "    \"\"\"\n",
    "    Checks if a specific position on the board is free.\n",
    "    Parameters:\n",
    "        board (list): The current game board.\n",
    "        position (int): The position to check (1-9).\n",
    "    Returns:\n",
    "        bool: True if the position is free, False otherwise.\n",
    "    \"\"\"\n",
    "    \n",
    "    return board[position] == ' '"
   ]
  },
  {
   "cell_type": "code",
   "execution_count": null,
   "id": "6effb70f",
   "metadata": {},
   "outputs": [],
   "source": [
    "def full_board_check(board):\n",
    "    \n",
    "    \"\"\"\n",
    "    Checks if the board is full.\n",
    "    Parameters:\n",
    "        board (list): The current game board.\n",
    "    Returns:\n",
    "        bool: True if the board is full, False otherwise.\n",
    "    \"\"\"\n",
    "    \n",
    "    return not any(space_check(board, i) for i in range(1, 10))"
   ]
  },
  {
   "cell_type": "code",
   "execution_count": null,
   "id": "f02a15e0",
   "metadata": {},
   "outputs": [],
   "source": [
    "def player_choice(board):\n",
    "    \n",
    "    \"\"\"\n",
    "    Asks the player to choose their next position.\n",
    "    Parameters:\n",
    "        board (list): The current game board.\n",
    "    Returns:\n",
    "        int: The chosen position (1-9).\n",
    "    \"\"\"\n",
    "    \n",
    "    position = 0\n",
    "    while position not in range(1, 10) or not space_check(board, position):\n",
    "        try:\n",
    "            position = int(input('Choose your next position: (1-9) '))\n",
    "        except ValueError:\n",
    "            print(\"Invalid input. Please enter a number between 1 and 9.\")\n",
    "    return position"
   ]
  },
  {
   "cell_type": "code",
   "execution_count": null,
   "id": "d46a242b",
   "metadata": {},
   "outputs": [],
   "source": [
    "def replay():\n",
    "    \n",
    "    \"\"\"\n",
    "    Asks the players if they want to play again.\n",
    "    Returns:\n",
    "        bool: True if the players want to play again, False otherwise.\n",
    "    \"\"\"\n",
    "    \n",
    "    return input('Do you want to play again? Enter Yes or No: ').lower().startswith('y')\n"
   ]
  },
  {
   "cell_type": "code",
   "execution_count": null,
   "id": "1c9085cb",
   "metadata": {},
   "outputs": [],
   "source": [
    "def computer_choice(board):\n",
    "    \n",
    "    \"\"\"\n",
    "    Randomly chooses a position for the computer's move.\n",
    "    Parameters:\n",
    "        board (list): The current game board.\n",
    "    Returns:\n",
    "        int: The chosen position (1-9).\n",
    "    \"\"\"\n",
    "    \n",
    "    position = random.randint(1, 9)\n",
    "    while not space_check(board, position):\n",
    "        position = random.randint(1, 9)\n",
    "    return position"
   ]
  },
  {
   "cell_type": "code",
   "execution_count": null,
   "id": "5277a43d",
   "metadata": {},
   "outputs": [],
   "source": [
    "def choose_mode():\n",
    "    \n",
    "    \"\"\"\n",
    "    Asks the player to choose between two-player mode and player vs. computer mode.\n",
    "    Returns:\n",
    "        str: '1' for two-player mode, '2' for player vs. computer mode.\n",
    "    \"\"\"\n",
    "    \n",
    "    mode = ''\n",
    "    while not (mode == '1' or mode == '2'):\n",
    "        mode = input('Enter 1 to play against another player or 2 to play against the computer: ')\n",
    "    return mode"
   ]
  },
  {
   "cell_type": "code",
   "execution_count": null,
   "id": "2abd64cc-2297-43ab-8c77-4c6f34d65298",
   "metadata": {
    "jp-MarkdownHeadingCollapsed": true
   },
   "outputs": [],
   "source": [
    "# Main Game Loop\n",
    "print('Welcome to Tic Tac Toe!')\n",
    "\n",
    "while True:\n",
    "    theBoard = [' '] * 10\n",
    "    player1_marker, player2_marker = player_input()\n",
    "    turn = choose_first()\n",
    "    print(turn + ' will go first.')\n",
    "    \n",
    "    mode = choose_mode()\n",
    "    if mode == '1':\n",
    "        opponent = 'Player 2'\n",
    "    else:\n",
    "        opponent = 'Computer'\n",
    "    \n",
    "    play_game = input('Are you ready to play? Enter Yes or No: ').lower().startswith('y')\n",
    "    \n",
    "    while play_game:\n",
    "        if turn == 'Player 1':\n",
    "            display_board(theBoard)\n",
    "            print(f\"{turn}'s turn. Your marker is {player1_marker}.\")\n",
    "            position = player_choice(theBoard)\n",
    "            place_marker(theBoard, player1_marker, position)\n",
    "\n",
    "            if win_check(theBoard, player1_marker):\n",
    "                display_board(theBoard)\n",
    "                print('Congratulations! You have won the game!')\n",
    "                play_game = False\n",
    "            else:\n",
    "                if full_board_check(theBoard):\n",
    "                    display_board(theBoard)\n",
    "                    print('The game is a draw!')\n",
    "                    break\n",
    "                else:\n",
    "                    turn = opponent\n",
    "        else:\n",
    "            if opponent == 'Player 2':\n",
    "                display_board(theBoard)\n",
    "                print(f\"{turn}'s turn. Your marker is {player2_marker}.\")\n",
    "                position = player_choice(theBoard)\n",
    "                place_marker(theBoard, player2_marker, position)\n",
    "            else:\n",
    "                position = computer_choice(theBoard)\n",
    "                place_marker(theBoard, player2_marker, position)\n",
    "                print(f\"Computer's turn. It chose position {position}.\")\n",
    "\n",
    "            if win_check(theBoard, player2_marker):\n",
    "                display_board(theBoard)\n",
    "                if opponent == 'Computer':\n",
    "                    print('The computer has won!')\n",
    "                else:\n",
    "                    print('Player 2 has won!')\n",
    "                play_game = False\n",
    "            else:\n",
    "                if full_board_check(theBoard):\n",
    "                    display_board(theBoard)\n",
    "                    print('The game is a draw!')\n",
    "                    break\n",
    "                else:\n",
    "                    turn = 'Player 1'\n",
    "    \n",
    "    if not replay():\n",
    "        break\n"
   ]
  },
  {
   "cell_type": "markdown",
   "id": "ec6b3f3e",
   "metadata": {},
   "source": [
    "## 2.2 Graphical User Interface (GUI) Version"
   ]
  },
  {
   "cell_type": "code",
   "execution_count": 1,
   "id": "30e5992c",
   "metadata": {},
   "outputs": [],
   "source": [
    "# importing modules and libraries for GUI\n",
    "import tkinter as tk\n",
    "from tkinter import messagebox\n",
    "import random"
   ]
  },
  {
   "cell_type": "code",
   "execution_count": 2,
   "id": "d26c1d53",
   "metadata": {},
   "outputs": [],
   "source": [
    "game_window = {}  # Define game_window globally"
   ]
  },
  {
   "cell_type": "code",
   "execution_count": 3,
   "id": "f6b56c29",
   "metadata": {},
   "outputs": [],
   "source": [
    "def display_board(board, buttons): \n",
    "    \n",
    "    \"\"\"\n",
    "    Update the button texts on the GUI to reflect the current state of the board.\n",
    "    Disable buttons that are already filled.\n",
    "    \"\"\"\n",
    "    \n",
    "    for i in range(1, 10):\n",
    "        buttons[i].config(text=board[i], state=\"disabled\" if board[i] != ' ' else \"normal\")\n"
   ]
  },
  {
   "cell_type": "code",
   "execution_count": 4,
   "id": "e96c8c60",
   "metadata": {},
   "outputs": [],
   "source": [
    "def player_input():\n",
    "    \n",
    "    \"\"\"\n",
    "    Return a tuple representing the markers for player 1 and player 2.\n",
    "    \"\"\"\n",
    "    \n",
    "    return ('X', 'O')"
   ]
  },
  {
   "cell_type": "code",
   "execution_count": 5,
   "id": "392d973b",
   "metadata": {},
   "outputs": [],
   "source": [
    "def place_marker(board, marker, position, buttons):\n",
    "    \n",
    "    \"\"\"\n",
    "    Place a marker on the board at the specified position.\n",
    "    Update the corresponding button on the GUI.\n",
    "    \"\"\"\n",
    "    \n",
    "    board[position] = marker\n",
    "    buttons[position].config(text=marker, state=\"disabled\")"
   ]
  },
  {
   "cell_type": "code",
   "execution_count": 6,
   "id": "fc7d9399",
   "metadata": {},
   "outputs": [],
   "source": [
    "def win_check(board, mark):\n",
    "    \n",
    "    \"\"\"\n",
    "    Check if the specified marker has won the game.\n",
    "    Return True if a win condition is met, otherwise False.\n",
    "    \"\"\"\n",
    "    \n",
    "    return ((board[7] == mark and board[8] == mark and board[9] == mark) or \n",
    "            (board[4] == mark and board[5] == mark and board[6] == mark) or \n",
    "            (board[1] == mark and board[2] == mark and board[3] == mark) or \n",
    "            (board[7] == mark and board[4] == mark and board[1] == mark) or \n",
    "            (board[8] == mark and board[5] == mark and board[2] == mark) or \n",
    "            (board[9] == mark and board[6] == mark and board[3] == mark) or \n",
    "            (board[7] == mark and board[5] == mark and board[3] == mark) or \n",
    "            (board[9] == mark and board[5] == mark and board[1] == mark))"
   ]
  },
  {
   "cell_type": "code",
   "execution_count": 7,
   "id": "4d308637",
   "metadata": {},
   "outputs": [],
   "source": [
    "def choose_first():\n",
    "    \n",
    "    \"\"\"\n",
    "    Randomly choose which player goes first.\n",
    "    Return 'Player 1' or 'Player 2'.\n",
    "    \"\"\"\n",
    "    \n",
    "    return 'Player 1' if random.randint(0, 1) == 0 else 'Player 2'\n"
   ]
  },
  {
   "cell_type": "code",
   "execution_count": 8,
   "id": "ce7843df",
   "metadata": {},
   "outputs": [],
   "source": [
    "def space_check(board, position):\n",
    "    \n",
    "    \"\"\"\n",
    "    Check if the specified position on the board is available.\n",
    "    Return True if the position is free, otherwise False.\n",
    "    \"\"\"\n",
    "    \n",
    "    return board[position] == ' '"
   ]
  },
  {
   "cell_type": "code",
   "execution_count": 9,
   "id": "33504680",
   "metadata": {},
   "outputs": [],
   "source": [
    "def full_board_check(board):\n",
    "    \n",
    "    \"\"\"\n",
    "    Check if the board is full.\n",
    "    Return True if there are no available positions, otherwise False.\n",
    "    \"\"\"\n",
    "    \n",
    "    return not any(space_check(board, i) for i in range(1, 10))"
   ]
  },
  {
   "cell_type": "code",
   "execution_count": 10,
   "id": "4f29c302",
   "metadata": {},
   "outputs": [],
   "source": [
    "def player_choice(position, game_window):\n",
    "    \n",
    "    \"\"\"\n",
    "    Handle the player's move.\n",
    "    Place the marker on the board, check for a win or a draw,\n",
    "    and switch turns or end the game as necessary.\n",
    "    \"\"\"\n",
    "    \n",
    "    board, buttons, player1_marker, player2_marker, turn, opponent = game_window[\"board\"], game_window[\"buttons\"], game_window[\"player1_marker\"], game_window[\"player2_marker\"], game_window[\"turn\"], game_window[\"opponent\"]\n",
    "    current_marker = player1_marker if turn == 'Player 1' else player2_marker\n",
    "    place_marker(board, current_marker, position, buttons)\n",
    "    if win_check(board, current_marker):\n",
    "        messagebox.showinfo(\"Game Over\", f\"{turn} has won!\")\n",
    "        reset_game(game_window)\n",
    "    else:\n",
    "        if full_board_check(board):\n",
    "            messagebox.showinfo(\"Game Over\", \"The game is a draw!\")\n",
    "            reset_game(game_window)\n",
    "        else:\n",
    "            game_window[\"turn\"] = 'Player 1' if turn == 'Player 2' else 'Player 2'\n",
    "            game_window[\"status_label\"].config(text=f\"{game_window['turn']}'s turn\")\n",
    "            if game_window[\"opponent\"] == 'Computer' and game_window[\"turn\"] == 'Player 2':\n",
    "                game_window[\"root\"].after(500, lambda: computer_move(game_window))\n"
   ]
  },
  {
   "cell_type": "code",
   "execution_count": 11,
   "id": "2d64f0b4",
   "metadata": {},
   "outputs": [],
   "source": [
    "def minimax(board, depth, is_maximizing, alpha, beta, player1_marker, player2_marker):\n",
    "    \n",
    "    \"\"\"\n",
    "    Implement the minimax algorithm with alpha-beta pruning to find the best move for the computer.\n",
    "    Return the best score for the current player.\n",
    "    \"\"\"\n",
    "    \n",
    "    if win_check(board, player2_marker):\n",
    "        return 10 - depth\n",
    "    if win_check(board, player1_marker):\n",
    "        return depth - 10\n",
    "    if full_board_check(board):\n",
    "        return 0\n",
    "\n",
    "    if is_maximizing:\n",
    "        best_score = -float('inf')\n",
    "        for i in range(1, 10):\n",
    "            if space_check(board, i):\n",
    "                board[i] = player2_marker\n",
    "                score = minimax(board, depth + 1, False, alpha, beta, player1_marker, player2_marker)\n",
    "                board[i] = ' '\n",
    "                best_score = max(best_score, score)\n",
    "                alpha = max(alpha, score)\n",
    "                if beta <= alpha:\n",
    "                    break\n",
    "        return best_score\n",
    "    else:\n",
    "        best_score = float('inf')\n",
    "        for i in range(1, 10):\n",
    "            if space_check(board, i):\n",
    "                board[i] = player1_marker\n",
    "                score = minimax(board, depth + 1, True, alpha, beta, player1_marker, player2_marker)\n",
    "                board[i] = ' '\n",
    "                best_score = min(best_score, score)\n",
    "                beta = min(beta, score)\n",
    "                if beta <= alpha:\n",
    "                    break\n",
    "        return best_score\n"
   ]
  },
  {
   "cell_type": "code",
   "execution_count": 12,
   "id": "93009270",
   "metadata": {},
   "outputs": [],
   "source": [
    "def computer_choice(board, player1_marker, player2_marker):\n",
    "    \n",
    "    \"\"\"\n",
    "    Determine the best move for the computer using the minimax algorithm.\n",
    "    Return the position of the best move.\n",
    "    \"\"\"\n",
    "    \n",
    "    best_score = -float('inf')\n",
    "    best_move = None\n",
    "    for i in range(1, 10):\n",
    "        if space_check(board, i):\n",
    "            board[i] = player2_marker\n",
    "            score = minimax(board, 0, False, -float('inf'), float('inf'),player1_marker, player2_marker)\n",
    "            board[i] = ' '\n",
    "            if score > best_score:\n",
    "                best_score = score\n",
    "                best_move = i\n",
    "    return best_move\n"
   ]
  },
  {
   "cell_type": "code",
   "execution_count": 13,
   "id": "9d33f25e",
   "metadata": {},
   "outputs": [],
   "source": [
    "def computer_move(game_window):\n",
    "    \n",
    "    \"\"\"\n",
    "    Make a move for the computer.\n",
    "    Place the marker on the board, check for a win or a draw,\n",
    "    and switch turns or end the game as necessary.\n",
    "    \"\"\"\n",
    "    \n",
    "    board, buttons = game_window[\"board\"], game_window[\"buttons\"]\n",
    "    position = computer_choice(board, game_window[\"player1_marker\"], game_window[\"player2_marker\"])\n",
    "    place_marker(board, game_window[\"player2_marker\"], position, buttons)\n",
    "    if win_check(board, game_window[\"player2_marker\"]):\n",
    "        messagebox.showinfo(\"Game Over\", \"Computer has won!\")\n",
    "        reset_game(game_window)\n",
    "    elif full_board_check(board):\n",
    "        messagebox.showinfo(\"Game Over\", \"The game is a draw!\")\n",
    "        reset_game(game_window)\n",
    "    else:\n",
    "        game_window[\"turn\"] = 'Player 1'\n",
    "        game_window[\"status_label\"].config(text=\"Player 1's turn\")"
   ]
  },
  {
   "cell_type": "code",
   "execution_count": 14,
   "id": "83b30eb4",
   "metadata": {},
   "outputs": [],
   "source": [
    "def start_game(game_window):\n",
    "    \n",
    "    \"\"\"\n",
    "    Start a new game.\n",
    "    Initialize the board, choose markers, and determine who goes first.\n",
    "    \"\"\"\n",
    "    \n",
    "    game_window[\"board\"] = [' '] * 10\n",
    "    game_window[\"player1_marker\"], game_window[\"player2_marker\"] = player_input()\n",
    "    game_window[\"turn\"] = choose_first()\n",
    "    game_window[\"status_label\"].config(text=f\"{game_window['turn']} will go first. {game_window['turn']} is {game_window['player1_marker'] if game_window['turn'] == 'Player 1' else game_window['player2_marker']}.\")\n",
    "    display_board(game_window[\"board\"], game_window[\"buttons\"])\n",
    "    if game_window[\"opponent\"] == 'Computer' and game_window[\"turn\"] == 'Player 2':\n",
    "        game_window[\"root\"].after(500, lambda: computer_move(game_window))\n"
   ]
  },
  {
   "cell_type": "code",
   "execution_count": 15,
   "id": "3b379f4d",
   "metadata": {},
   "outputs": [],
   "source": [
    "def reset_game(game_window):\n",
    "    \n",
    "    \"\"\"\n",
    "    Reset the game board and start a new game.\n",
    "    \"\"\"\n",
    "    \n",
    "    for i in range(1, 10):\n",
    "        game_window[\"buttons\"][i].config(text=' ', state=\"normal\")\n",
    "    start_game(game_window)"
   ]
  },
  {
   "cell_type": "code",
   "execution_count": 16,
   "id": "974704f7",
   "metadata": {},
   "outputs": [],
   "source": [
    "def close_last_game_window():\n",
    "    \n",
    "    \"\"\"\n",
    "    Close the last game window if it exists.\n",
    "    \"\"\"\n",
    "    \n",
    "    global last_game_window\n",
    "    if last_game_window is not None:\n",
    "        last_game_window.destroy()\n",
    "        last_game_window = None\n"
   ]
  },
  {
   "cell_type": "code",
   "execution_count": 17,
   "id": "9beac46f",
   "metadata": {},
   "outputs": [],
   "source": [
    "def close_window(window):\n",
    "    \n",
    "    \"\"\"\n",
    "    Close the specified window.\n",
    "    \"\"\"\n",
    "    \n",
    "    window.destroy()"
   ]
  },
  {
   "cell_type": "code",
   "execution_count": 18,
   "id": "b7769a08",
   "metadata": {},
   "outputs": [],
   "source": [
    "def start_two_player_mode():\n",
    "    \n",
    "    \"\"\"\n",
    "    Start the game in two-player mode.\n",
    "    \"\"\"\n",
    "    \n",
    "    global last_game_window\n",
    "    close_last_game_window()\n",
    "    last_game_window = create_game_window(\"2 Players\")\n"
   ]
  },
  {
   "cell_type": "code",
   "execution_count": 19,
   "id": "e5f9f814",
   "metadata": {},
   "outputs": [],
   "source": [
    "def start_computer_mode():\n",
    "    \n",
    "    \"\"\"\n",
    "    Start the game in player vs. computer mode.\n",
    "    \"\"\"\n",
    "    \n",
    "    global last_game_window\n",
    "    close_last_game_window()\n",
    "    last_game_window = create_game_window(\"Computer\")"
   ]
  },
  {
   "cell_type": "code",
   "execution_count": 20,
   "id": "da3813a0",
   "metadata": {},
   "outputs": [],
   "source": [
    "def create_game_window(mode):\n",
    "    \n",
    "    \"\"\"\n",
    "    Create the game window for the specified mode (two-player or computer).\n",
    "    Initialize the game elements and start a new game.\n",
    "    \"\"\"\n",
    "    \n",
    "    game_window = {}\n",
    "    game_window[\"root\"] = tk.Toplevel(root)\n",
    "    game_window[\"root\"].title(f\"Tic Tac Toe - {mode}\")\n",
    "    game_window[\"root\"].configure(bg=\"lightblue\")\n",
    "\n",
    "    game_window[\"board\"] = [' '] * 10\n",
    "    game_window[\"player1_marker\"], game_window[\"player2_marker\"] = '', ''\n",
    "    game_window[\"turn\"], game_window[\"mode\"] = '', mode\n",
    "    game_window[\"opponent\"] = mode\n",
    "\n",
    "    game_window[\"buttons\"] = {}\n",
    "    for i in range(1, 10):\n",
    "        game_window[\"buttons\"][i] = tk.Button(game_window[\"root\"], text=' ', font=('Arial', 20), height=3, width=6,\n",
    "                                              command=lambda i=i, gw=game_window: player_choice(i, gw),\n",
    "                                              bg=\"white\", fg=\"blue\", activebackground=\"lightgrey\")\n",
    "        game_window[\"buttons\"][i].grid(row=(i-1)//3, column=(i-1)%3, padx=5, pady=5)\n",
    "\n",
    "    game_window[\"status_label\"] = tk.Label(game_window[\"root\"], text=\"Welcome to Tic Tac Toe!\", font=('Arial', 14), bg=\"lightblue\")\n",
    "    game_window[\"status_label\"].grid(row=3, column=0, columnspan=3)\n",
    "\n",
    "    start_game(game_window)\n",
    "    return game_window[\"root\"]\n",
    "\n"
   ]
  },
  {
   "cell_type": "code",
   "execution_count": 21,
   "id": "8ffe3689",
   "metadata": {},
   "outputs": [],
   "source": [
    "# Main window setup\n",
    "root = tk.Tk()\n",
    "root.title(\"Tic Tac Toe\")\n",
    "root.configure(bg=\"lightblue\")"
   ]
  },
  {
   "cell_type": "code",
   "execution_count": 22,
   "id": "efd0cf9c",
   "metadata": {},
   "outputs": [],
   "source": [
    "last_game_window = None"
   ]
  },
  {
   "cell_type": "code",
   "execution_count": 23,
   "id": "774b6c02",
   "metadata": {},
   "outputs": [],
   "source": [
    "# Main menu widgets\n",
    "main_menu_label = tk.Label(root, text=\"Welcome to Tic Tac Toe!\", font=('Arial', 14), bg=\"lightblue\")\n",
    "main_menu_label.grid(row=0, column=0, columnspan=2, pady=10)"
   ]
  },
  {
   "cell_type": "code",
   "execution_count": 24,
   "id": "00e6d065",
   "metadata": {},
   "outputs": [],
   "source": [
    "two_player_button = tk.Button(root, text=\"2 Players\", font=('Arial', 14), command=start_two_player_mode, bg=\"green\", fg=\"white\")\n",
    "two_player_button.grid(row=1, column=0, padx=10, pady=10)"
   ]
  },
  {
   "cell_type": "code",
   "execution_count": 25,
   "id": "c2ff806a",
   "metadata": {},
   "outputs": [],
   "source": [
    "computer_button = tk.Button(root, text=\"Player vs Computer\", font=('Arial', 14), command=start_computer_mode, bg=\"blue\", fg=\"white\")\n",
    "computer_button.grid(row=1, column=1, padx=10, pady=10)"
   ]
  },
  {
   "cell_type": "code",
   "execution_count": 26,
   "id": "005ae564",
   "metadata": {},
   "outputs": [],
   "source": [
    "root.mainloop()"
   ]
  },
  {
   "cell_type": "code",
   "execution_count": null,
   "id": "59f16302-0771-455a-8e0d-13500d51a6f5",
   "metadata": {},
   "outputs": [],
   "source": []
  }
 ],
 "metadata": {
  "kernelspec": {
   "display_name": "Python 3 (ipykernel)",
   "language": "python",
   "name": "python3"
  },
  "language_info": {
   "codemirror_mode": {
    "name": "ipython",
    "version": 3
   },
   "file_extension": ".py",
   "mimetype": "text/x-python",
   "name": "python",
   "nbconvert_exporter": "python",
   "pygments_lexer": "ipython3",
   "version": "3.12.4"
  }
 },
 "nbformat": 4,
 "nbformat_minor": 5
}
